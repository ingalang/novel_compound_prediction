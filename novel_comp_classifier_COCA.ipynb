{
 "cells": [
  {
   "cell_type": "code",
   "execution_count": null,
   "id": "plain-easter",
   "metadata": {},
   "outputs": [],
   "source": [
    "import torch\n",
    "import torch.nn as nn\n",
    "import torch.utils.data\n",
    "import pandas as pd\n",
    "from torch.utils import data\n",
    "from numpy import array\n",
    "from numpy import argmax\n",
    "import argparse\n",
    "from torch.autograd import Variable\n",
    "from torch import optim\n",
    "import numpy as np\n",
    "import os\n",
    "import logging\n",
    "import pickle as pkl\n",
    "import warnings\n",
    "pd.options.mode.chained_assignment = None\n",
    "os.environ[\"CUDA_DEVICE_ORDER\"]=\"PCI_BUS_ID\"\n",
    "os.environ[\"CUDA_VISIBLE_DEVICES\"]=\"10\"\n",
    "import glob\n",
    "import random\n",
    "random.seed(1991)\n",
    "from sklearn.metrics.pairwise import cosine_similarity\n",
    "import inflect"
   ]
  },
  {
   "cell_type": "code",
   "execution_count": 2,
   "id": "voluntary-combine",
   "metadata": {},
   "outputs": [],
   "source": [
    "#TODO: Steps\n",
    "# 1 Load dev and test data\n",
    "# 2 Use dev data to put together ten datasets, each consisting of dev data + corrupted compounds\n",
    "# 3 Load corrupted modifiers for test as well, and put test + corrupted modifiers together into one dataset\n",
    "# 4 Load word2vec model and get representations for each compound in each set (by concatenation)\n",
    "# 4.2 - Turn representations for each compound into dataframes so they're compatible with Prajit's old code\n",
    "# 5 Turn sets into tensors etc\n",
    "# 6 Use as inputs to training!!\n",
    "# 7 Then: implement cosine similarity approach"
   ]
  },
  {
   "cell_type": "code",
   "execution_count": null,
   "id": "sized-florida",
   "metadata": {},
   "outputs": [],
   "source": [
    "with open('/COCA_datasets/COCA_dev_min3.txt')"
   ]
  }
 ],
 "metadata": {
  "kernelspec": {
   "display_name": "Python 3",
   "language": "python",
   "name": "python3"
  },
  "language_info": {
   "codemirror_mode": {
    "name": "ipython",
    "version": 3
   },
   "file_extension": ".py",
   "mimetype": "text/x-python",
   "name": "python",
   "nbconvert_exporter": "python",
   "pygments_lexer": "ipython3",
   "version": "3.8.7"
  }
 },
 "nbformat": 4,
 "nbformat_minor": 5
}
